{
 "cells": [
  {
   "cell_type": "code",
   "execution_count": 1,
   "id": "432dc633",
   "metadata": {},
   "outputs": [],
   "source": [
    "import math\n",
    "import random"
   ]
  },
  {
   "cell_type": "code",
   "execution_count": 17,
   "id": "dc66de0b",
   "metadata": {},
   "outputs": [
    {
     "name": "stdout",
     "output_type": "stream",
     "text": [
      "[8449, 2499, 5408, 8705, 3704, 5228, 2750, 7781, 4336, 7639, 7468, 9649, 1573, 5645, 1950, 2961, 7702, 9839, 8994, 6938, 6841, 4790, 4417, 2504, 5383, 4769, 9590, 8715, 7544, 1418, 6684, 6403, 3815, 2554, 2486, 3676, 7946, 6417, 880, 3167, 6025, 6877, 2221, 6847, 4680, 5622, 3139, 9098, 6391, 9918, 3812, 2744, 7266, 5561, 5947, 8788, 8521, 4250, 8710, 5800, 8790, 5767, 4398, 2335, 7076, 8883, 1177, 5882, 7701, 8296, 3324, 874, 8370, 6295, 7554, 3029, 9162, 3818, 5423, 2250, 2921, 7614, 8149, 9094, 2364, 5116, 3849, 3753, 4649, 1187, 3202, 5835, 7667, 6343, 181, 3372, 4385, 7152, 6522, 5289]\n"
     ]
    }
   ],
   "source": [
    "data = list()\n",
    "for i in range(100):\n",
    "    data.append(random.randint(0,9999))\n",
    "print(data)"
   ]
  },
  {
   "cell_type": "code",
   "execution_count": 4,
   "id": "81be8d22",
   "metadata": {},
   "outputs": [
    {
     "name": "stdout",
     "output_type": "stream",
     "text": [
      "['124', '3856', '3537', '7329', '2936', '6608', '13', '2583', '5759', '9284', '8207', '9422', '3272', '246', '9334', '9308', '1342', '6206', '5153', '9478', '1742', '703', '9883', '2476', '1159', '2454', '3859', '1777', '2187', '6015', '9067', '1913', '1794', '5791', '941', '5195', '2483', '395', '2115', '1878', '8469', '6372', '6813', '2913', '4458', '4519', '2689', '3101', '6302', '4296', '5054', '8759', '1315', '9506', '3134', '2359', '7834', '2778', '5206', '9995', '3233', '1939', '4623', '2870', '5755', '1147', '6546', '8837', '7930', '4970', '2420', '5817', '9233', '4122', '6706', '8075', '9749', '5103', '2685', '2828', '713', '6902', '4684', '5615', '307', '9302', '2749', '7200', '5932', '7855', '5606', '5711', '1816', '6184', '6219', '9753', '3406', '7219', '5301', '5613']\n"
     ]
    }
   ],
   "source": [
    "datastrings = list()\n",
    "for i in data:\n",
    "    datastrings.append(str(i))\n",
    "print(datastrings)"
   ]
  },
  {
   "cell_type": "code",
   "execution_count": 10,
   "id": "9b5fe73f",
   "metadata": {},
   "outputs": [
    {
     "name": "stdout",
     "output_type": "stream",
     "text": [
      "['1147', '1159', '124', '13', '1315', '1342', '1742', '1777', '1794', '1816', '1878', '1913', '1939', '2115', '2187', '2359', '2420', '2454', '246', '2476', '2483', '2583', '2685', '2689', '2749', '2778', '2828', '2870', '2913', '2936', '307', '3101', '3134', '3233', '3272', '3406', '3537', '3856', '3859', '395', '4122', '4296', '4458', '4519', '4623', '4684', '4970', '5054', '5103', '5153', '5195', '5206', '5301', '5606', '5613', '5615', '5711', '5755', '5759', '5791', '5817', '5932', '6015', '6184', '6206', '6219', '6302', '6372', '6546', '6608', '6706', '6813', '6902', '703', '713', '7200', '7219', '7329', '7834', '7855', '7930', '8075', '8207', '8469', '8759', '8837', '9067', '9233', '9284', '9302', '9308', '9334', '941', '9422', '9478', '9506', '9749', '9753', '9883', '9995']\n"
     ]
    }
   ],
   "source": [
    "datastrings.sort(reverse=False)\n",
    "print(datastrings)"
   ]
  },
  {
   "cell_type": "code",
   "execution_count": 18,
   "id": "d9471257",
   "metadata": {},
   "outputs": [
    {
     "name": "stdout",
     "output_type": "stream",
     "text": [
      "[181, 874, 880, 1177, 1187, 1418, 1573, 1950, 2221, 2250, 2335, 2364, 2486, 2499, 2504, 2554, 2744, 2750, 2921, 2961, 3029, 3139, 3167, 3202, 3324, 3372, 3676, 3704, 3753, 3812, 3815, 3818, 3849, 4250, 4336, 4385, 4398, 4417, 4649, 4680, 4769, 4790, 5116, 5228, 5289, 5383, 5408, 5423, 5561, 5622, 5645, 5767, 5800, 5835, 5882, 5947, 6025, 6295, 6343, 6391, 6403, 6417, 6522, 6684, 6841, 6847, 6877, 6938, 7076, 7152, 7266, 7468, 7544, 7554, 7614, 7639, 7667, 7701, 7702, 7781, 7946, 8149, 8296, 8370, 8449, 8521, 8705, 8710, 8715, 8788, 8790, 8883, 8994, 9094, 9098, 9162, 9590, 9649, 9839, 9918]\n"
     ]
    }
   ],
   "source": [
    "data_sorted1 = sorted(data, reverse=False)\n",
    "print(data_sorted1)"
   ]
  },
  {
   "cell_type": "code",
   "execution_count": 11,
   "id": "2ff4b44e",
   "metadata": {},
   "outputs": [
    {
     "name": "stdout",
     "output_type": "stream",
     "text": [
      "[1977, 2301, 3247, 6098, 6615, 2343, 64, 1629, 5884, 1233, 7470, 518, 9176, 2275, 5605, 6825, 5662, 520, 7666, 1825, 7965, 6753, 1321, 7412, 6693, 7376, 746, 7171, 9491, 8446, 4643, 4080, 9771, 7876, 2332, 9233, 4982, 7072, 2542, 2365, 7788, 2316, 492, 5360, 6850, 9860, 1964, 4772, 9316, 963, 7382, 6498, 9449, 8050, 2324, 5955, 2063, 1663, 6181, 3228, 6732, 3090, 9164, 2712, 9904, 8658, 3144, 4341, 812, 9475, 2999, 6645, 9853, 7110, 2189, 7847, 9929, 3101, 9108, 4286, 6014, 8497, 6088, 7282, 6287, 4010, 9872, 6013, 6331, 2569, 9114, 6834, 2173, 1483, 8110, 1948, 4069, 4991, 5237, 3086]\n"
     ]
    }
   ],
   "source": [
    "data2 = list()\n",
    "for i in range(100):\n",
    "    data2.append(random.randint(0,9999))\n",
    "print(data2)"
   ]
  },
  {
   "cell_type": "code",
   "execution_count": 19,
   "id": "deb61626",
   "metadata": {},
   "outputs": [
    {
     "name": "stdout",
     "output_type": "stream",
     "text": [
      "<map object at 0x000002172AE7B8B0> \n",
      "\n",
      "[False, True, True, False, False, True, False, True, False, True, False, True, True, False, True, True, True, True, False, False, False, False, False, True, True, True, True, True, False, True, False, True, False, True, True, False, True, False, False, True, False, True, True, True, False, False, True, False, False, True, False, False, True, False, True, False, False, False, False, False, False, False, True, True, False, False, False, True, True, True, True, True, True, True, True, False, False, False, True, False, True, False, True, True, False, False, False, True, False, True, True, False, True, True, True, True, True, False, False, True]\n"
     ]
    }
   ],
   "source": [
    "f = lambda x : x/2 == int(x/2)\n",
    "data_result = map(f, data_sorted1)\n",
    "print(data_result, '\\n')\n",
    "print(list(data_result))"
   ]
  },
  {
   "cell_type": "code",
   "execution_count": 20,
   "id": "8ed6cc9e",
   "metadata": {},
   "outputs": [
    {
     "name": "stdout",
     "output_type": "stream",
     "text": [
      "<filter object at 0x000002172AE7B430> \n",
      "\n",
      "[4250, 4336, 4385, 4398, 4417, 4649, 4680, 4769, 4790]\n"
     ]
    }
   ],
   "source": [
    "f = lambda x: x > 4000 and x < 5000\n",
    "data_final_result = filter(f, data_sorted1)\n",
    "print(data_final_result, '\\n')\n",
    "print(list(data_final_result))"
   ]
  }
 ],
 "metadata": {
  "kernelspec": {
   "display_name": "Python 3 (ipykernel)",
   "language": "python",
   "name": "python3"
  },
  "language_info": {
   "codemirror_mode": {
    "name": "ipython",
    "version": 3
   },
   "file_extension": ".py",
   "mimetype": "text/x-python",
   "name": "python",
   "nbconvert_exporter": "python",
   "pygments_lexer": "ipython3",
   "version": "3.9.13"
  }
 },
 "nbformat": 4,
 "nbformat_minor": 5
}
