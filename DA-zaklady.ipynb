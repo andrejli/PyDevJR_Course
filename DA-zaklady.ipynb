{
 "cells": [
  {
   "cell_type": "code",
   "execution_count": 1,
   "id": "432dc633",
   "metadata": {},
   "outputs": [],
   "source": [
    "import math\n",
    "import random"
   ]
  },
  {
   "cell_type": "markdown",
   "id": "350b54e3",
   "metadata": {},
   "source": [
    "# Nadpis\n",
    "\n",
    "Toto je interaktivna forma Pythonu pre Datovu analytiku, vzdelavanie a prototypovanie"
   ]
  },
  {
   "cell_type": "code",
   "execution_count": 2,
   "id": "dc66de0b",
   "metadata": {},
   "outputs": [
    {
     "name": "stdout",
     "output_type": "stream",
     "text": [
      "[320, 4427, 4693, 3654, 7159, 9744, 6373, 4203, 4335, 3279, 3790, 9979, 369, 7940, 7250, 3189, 928, 6366, 6981, 4108, 6819, 3925, 3191, 7891, 3412, 6528, 4574, 5618, 5386, 2184, 5718, 5844, 5947, 3417, 4052, 6254, 6918, 1634, 5576, 8014, 5754, 9624, 2342, 785, 7171, 1757, 258, 1684, 9561, 7087, 7345, 3930, 3822, 1086, 5969, 4536, 9998, 235, 6553, 5065, 7675, 5510, 5708, 7610, 8854, 303, 4972, 7337, 2559, 7800, 5703, 9925, 1240, 2733, 8735, 31, 1975, 8514, 6798, 2436, 7233, 2048, 4128, 8528, 3742, 4956, 7911, 3539, 9590, 1576, 1850, 1046, 666, 4451, 8686, 4859, 603, 1751, 2504, 7255]\n"
     ]
    }
   ],
   "source": [
    "data = list()\n",
    "for i in range(100):\n",
    "    data.append(random.randint(0,9999))\n",
    "print(data)"
   ]
  },
  {
   "cell_type": "code",
   "execution_count": 3,
   "id": "81be8d22",
   "metadata": {},
   "outputs": [
    {
     "name": "stdout",
     "output_type": "stream",
     "text": [
      "['320', '4427', '4693', '3654', '7159', '9744', '6373', '4203', '4335', '3279', '3790', '9979', '369', '7940', '7250', '3189', '928', '6366', '6981', '4108', '6819', '3925', '3191', '7891', '3412', '6528', '4574', '5618', '5386', '2184', '5718', '5844', '5947', '3417', '4052', '6254', '6918', '1634', '5576', '8014', '5754', '9624', '2342', '785', '7171', '1757', '258', '1684', '9561', '7087', '7345', '3930', '3822', '1086', '5969', '4536', '9998', '235', '6553', '5065', '7675', '5510', '5708', '7610', '8854', '303', '4972', '7337', '2559', '7800', '5703', '9925', '1240', '2733', '8735', '31', '1975', '8514', '6798', '2436', '7233', '2048', '4128', '8528', '3742', '4956', '7911', '3539', '9590', '1576', '1850', '1046', '666', '4451', '8686', '4859', '603', '1751', '2504', '7255']\n"
     ]
    }
   ],
   "source": [
    "datastrings = list()\n",
    "for i in data:\n",
    "    datastrings.append(str(i))\n",
    "print(datastrings)"
   ]
  },
  {
   "cell_type": "code",
   "execution_count": 4,
   "id": "9b5fe73f",
   "metadata": {},
   "outputs": [
    {
     "name": "stdout",
     "output_type": "stream",
     "text": [
      "['1046', '1086', '1240', '1576', '1634', '1684', '1751', '1757', '1850', '1975', '2048', '2184', '2342', '235', '2436', '2504', '2559', '258', '2733', '303', '31', '3189', '3191', '320', '3279', '3412', '3417', '3539', '3654', '369', '3742', '3790', '3822', '3925', '3930', '4052', '4108', '4128', '4203', '4335', '4427', '4451', '4536', '4574', '4693', '4859', '4956', '4972', '5065', '5386', '5510', '5576', '5618', '5703', '5708', '5718', '5754', '5844', '5947', '5969', '603', '6254', '6366', '6373', '6528', '6553', '666', '6798', '6819', '6918', '6981', '7087', '7159', '7171', '7233', '7250', '7255', '7337', '7345', '7610', '7675', '7800', '785', '7891', '7911', '7940', '8014', '8514', '8528', '8686', '8735', '8854', '928', '9561', '9590', '9624', '9744', '9925', '9979', '9998']\n"
     ]
    }
   ],
   "source": [
    "datastrings.sort(reverse=False)\n",
    "print(datastrings)"
   ]
  },
  {
   "cell_type": "code",
   "execution_count": 5,
   "id": "d9471257",
   "metadata": {},
   "outputs": [
    {
     "name": "stdout",
     "output_type": "stream",
     "text": [
      "[31, 235, 258, 303, 320, 369, 603, 666, 785, 928, 1046, 1086, 1240, 1576, 1634, 1684, 1751, 1757, 1850, 1975, 2048, 2184, 2342, 2436, 2504, 2559, 2733, 3189, 3191, 3279, 3412, 3417, 3539, 3654, 3742, 3790, 3822, 3925, 3930, 4052, 4108, 4128, 4203, 4335, 4427, 4451, 4536, 4574, 4693, 4859, 4956, 4972, 5065, 5386, 5510, 5576, 5618, 5703, 5708, 5718, 5754, 5844, 5947, 5969, 6254, 6366, 6373, 6528, 6553, 6798, 6819, 6918, 6981, 7087, 7159, 7171, 7233, 7250, 7255, 7337, 7345, 7610, 7675, 7800, 7891, 7911, 7940, 8014, 8514, 8528, 8686, 8735, 8854, 9561, 9590, 9624, 9744, 9925, 9979, 9998]\n"
     ]
    }
   ],
   "source": [
    "data_sorted1 = sorted(data, reverse=False)\n",
    "print(data_sorted1)"
   ]
  },
  {
   "cell_type": "code",
   "execution_count": 6,
   "id": "2ff4b44e",
   "metadata": {},
   "outputs": [
    {
     "name": "stdout",
     "output_type": "stream",
     "text": [
      "[4266, 5069, 5404, 7251, 721, 264, 6255, 4312, 5902, 7360, 3487, 5930, 2765, 8327, 3204, 840, 5294, 7166, 8837, 5868, 5452, 4213, 9483, 8972, 5396, 7104, 7981, 7009, 7992, 316, 6791, 4777, 555, 5211, 7820, 9772, 52, 3556, 6958, 5150, 3242, 7264, 6372, 1153, 9862, 159, 9062, 8200, 8075, 8822, 3635, 6775, 8470, 1917, 4282, 2830, 1773, 171, 5364, 1475, 8737, 3168, 7587, 1869, 4880, 3720, 4023, 3327, 4270, 9592, 927, 1072, 1196, 5426, 3940, 4738, 6097, 3936, 1874, 80, 6752, 6971, 2508, 3751, 4547, 1508, 8646, 9228, 7659, 2957, 7580, 1493, 402, 1370, 8066, 1090, 2763, 8396, 1605, 1950]\n"
     ]
    }
   ],
   "source": [
    "data2 = list()\n",
    "for i in range(100):\n",
    "    data2.append(random.randint(0,9999))\n",
    "print(data2)"
   ]
  },
  {
   "cell_type": "code",
   "execution_count": 7,
   "id": "deb61626",
   "metadata": {},
   "outputs": [
    {
     "name": "stdout",
     "output_type": "stream",
     "text": [
      "<map object at 0x000001FCDD19BC70> \n",
      "\n",
      "[False, False, True, False, True, False, False, True, False, True, True, True, True, True, True, True, False, False, True, False, True, True, True, True, True, False, False, False, False, False, True, False, False, True, True, True, True, False, True, True, True, True, False, False, False, False, True, True, False, False, True, True, False, True, True, True, True, False, True, True, True, True, False, False, True, True, False, True, False, True, False, True, False, False, False, False, False, True, False, False, False, True, False, True, False, False, True, True, True, True, True, False, True, False, True, True, True, False, False, True]\n"
     ]
    }
   ],
   "source": [
    "f = lambda x : x/2 == int(x/2)\n",
    "data_result = map(f, data_sorted1)\n",
    "print(data_result, '\\n')\n",
    "print(list(data_result))"
   ]
  },
  {
   "cell_type": "code",
   "execution_count": 20,
   "id": "8ed6cc9e",
   "metadata": {},
   "outputs": [
    {
     "name": "stdout",
     "output_type": "stream",
     "text": [
      "<filter object at 0x000002172AE7B430> \n",
      "\n",
      "[4250, 4336, 4385, 4398, 4417, 4649, 4680, 4769, 4790]\n"
     ]
    }
   ],
   "source": [
    "f = lambda x: x > 4000 and x < 5000\n",
    "data_final_result = filter(f, data_sorted1)\n",
    "print(data_final_result, '\\n')\n",
    "print(list(data_final_result))"
   ]
  }
 ],
 "metadata": {
  "kernelspec": {
   "display_name": "Python 3 (ipykernel)",
   "language": "python",
   "name": "python3"
  },
  "language_info": {
   "codemirror_mode": {
    "name": "ipython",
    "version": 3
   },
   "file_extension": ".py",
   "mimetype": "text/x-python",
   "name": "python",
   "nbconvert_exporter": "python",
   "pygments_lexer": "ipython3",
   "version": "3.9.13"
  }
 },
 "nbformat": 4,
 "nbformat_minor": 5
}
