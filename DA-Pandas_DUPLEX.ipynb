{
 "cells": [
  {
   "cell_type": "code",
   "execution_count": 2,
   "id": "ae90eab8",
   "metadata": {},
   "outputs": [],
   "source": [
    "import pandas as pd\n",
    "import numpy as np"
   ]
  },
  {
   "cell_type": "code",
   "execution_count": 3,
   "id": "282ed1c0",
   "metadata": {},
   "outputs": [
    {
     "name": "stdout",
     "output_type": "stream",
     "text": [
      "Atom        1\n",
      "Beton       3\n",
      "Skvara      7\n",
      "Akvarel     9\n",
      "Mezonet    15\n",
      "dtype: int64\n"
     ]
    }
   ],
   "source": [
    "s = pd.Series([1,3,7,9,15], index=['Atom', 'Beton','Skvara', 'Akvarel', 'Mezonet'])\n",
    "print(s)"
   ]
  },
  {
   "cell_type": "code",
   "execution_count": 32,
   "id": "2dd7fdba",
   "metadata": {},
   "outputs": [
    {
     "name": "stdout",
     "output_type": "stream",
     "text": [
      "           Kraj    Mesto  Hodnoty\n",
      "0  Bratislavsky  Pezinok       54\n",
      "1      Trnavsky   Trnava       32\n",
      "2       Kosicky   Kosice       87\n"
     ]
    }
   ],
   "source": [
    "data = {'Kraj': ['Bratislavsky', 'Trnavsky', 'Kosicky'],\n",
    "       'Mesto':['Pezinok', 'Trnava', 'Kosice'],\n",
    "       'Hodnoty': [54, 32, 87]}\n",
    "df = pd.DataFrame(data, columns=[\"Kraj\", \"Mesto\", \"Hodnoty\"])\n",
    "print(df)"
   ]
  },
  {
   "cell_type": "code",
   "execution_count": 5,
   "id": "d45d1474",
   "metadata": {},
   "outputs": [
    {
     "data": {
      "text/html": [
       "<div>\n",
       "<style scoped>\n",
       "    .dataframe tbody tr th:only-of-type {\n",
       "        vertical-align: middle;\n",
       "    }\n",
       "\n",
       "    .dataframe tbody tr th {\n",
       "        vertical-align: top;\n",
       "    }\n",
       "\n",
       "    .dataframe thead th {\n",
       "        text-align: right;\n",
       "    }\n",
       "</style>\n",
       "<table border=\"1\" class=\"dataframe\">\n",
       "  <thead>\n",
       "    <tr style=\"text-align: right;\">\n",
       "      <th></th>\n",
       "      <th>Kraj</th>\n",
       "      <th>Hodnoty</th>\n",
       "    </tr>\n",
       "  </thead>\n",
       "  <tbody>\n",
       "    <tr>\n",
       "      <th>1</th>\n",
       "      <td>Bratislavsky</td>\n",
       "      <td>54</td>\n",
       "    </tr>\n",
       "    <tr>\n",
       "      <th>2</th>\n",
       "      <td>Trnavsky</td>\n",
       "      <td>32</td>\n",
       "    </tr>\n",
       "    <tr>\n",
       "      <th>3</th>\n",
       "      <td>Kosicky</td>\n",
       "      <td>87</td>\n",
       "    </tr>\n",
       "  </tbody>\n",
       "</table>\n",
       "</div>"
      ],
      "text/plain": [
       "           Kraj  Hodnoty\n",
       "1  Bratislavsky       54\n",
       "2      Trnavsky       32\n",
       "3       Kosicky       87"
      ]
     },
     "execution_count": 5,
     "metadata": {},
     "output_type": "execute_result"
    }
   ],
   "source": [
    "df.drop('Mesto', axis=1)"
   ]
  },
  {
   "cell_type": "code",
   "execution_count": 6,
   "id": "6d267997",
   "metadata": {},
   "outputs": [
    {
     "data": {
      "text/html": [
       "<div>\n",
       "<style scoped>\n",
       "    .dataframe tbody tr th:only-of-type {\n",
       "        vertical-align: middle;\n",
       "    }\n",
       "\n",
       "    .dataframe tbody tr th {\n",
       "        vertical-align: top;\n",
       "    }\n",
       "\n",
       "    .dataframe thead th {\n",
       "        text-align: right;\n",
       "    }\n",
       "</style>\n",
       "<table border=\"1\" class=\"dataframe\">\n",
       "  <thead>\n",
       "    <tr style=\"text-align: right;\">\n",
       "      <th></th>\n",
       "      <th>Kraj</th>\n",
       "      <th>Mesto</th>\n",
       "      <th>Hodnoty</th>\n",
       "    </tr>\n",
       "  </thead>\n",
       "  <tbody>\n",
       "    <tr>\n",
       "      <th>2</th>\n",
       "      <td>Trnavsky</td>\n",
       "      <td>Trnava</td>\n",
       "      <td>32</td>\n",
       "    </tr>\n",
       "    <tr>\n",
       "      <th>1</th>\n",
       "      <td>Bratislavsky</td>\n",
       "      <td>Pezinok</td>\n",
       "      <td>54</td>\n",
       "    </tr>\n",
       "    <tr>\n",
       "      <th>3</th>\n",
       "      <td>Kosicky</td>\n",
       "      <td>Kosice</td>\n",
       "      <td>87</td>\n",
       "    </tr>\n",
       "  </tbody>\n",
       "</table>\n",
       "</div>"
      ],
      "text/plain": [
       "           Kraj    Mesto  Hodnoty\n",
       "2      Trnavsky   Trnava       32\n",
       "1  Bratislavsky  Pezinok       54\n",
       "3       Kosicky   Kosice       87"
      ]
     },
     "execution_count": 6,
     "metadata": {},
     "output_type": "execute_result"
    }
   ],
   "source": [
    "df.sort_index()\n",
    "df.sort_values(by='Hodnoty')"
   ]
  },
  {
   "cell_type": "code",
   "execution_count": 7,
   "id": "c5eaf35c",
   "metadata": {},
   "outputs": [
    {
     "data": {
      "text/html": [
       "<div>\n",
       "<style scoped>\n",
       "    .dataframe tbody tr th:only-of-type {\n",
       "        vertical-align: middle;\n",
       "    }\n",
       "\n",
       "    .dataframe tbody tr th {\n",
       "        vertical-align: top;\n",
       "    }\n",
       "\n",
       "    .dataframe thead th {\n",
       "        text-align: right;\n",
       "    }\n",
       "</style>\n",
       "<table border=\"1\" class=\"dataframe\">\n",
       "  <thead>\n",
       "    <tr style=\"text-align: right;\">\n",
       "      <th></th>\n",
       "      <th>Kraj</th>\n",
       "      <th>Mesto</th>\n",
       "      <th>Hodnoty</th>\n",
       "    </tr>\n",
       "  </thead>\n",
       "  <tbody>\n",
       "    <tr>\n",
       "      <th>1</th>\n",
       "      <td>1.0</td>\n",
       "      <td>2.0</td>\n",
       "      <td>2.0</td>\n",
       "    </tr>\n",
       "    <tr>\n",
       "      <th>2</th>\n",
       "      <td>3.0</td>\n",
       "      <td>3.0</td>\n",
       "      <td>1.0</td>\n",
       "    </tr>\n",
       "    <tr>\n",
       "      <th>3</th>\n",
       "      <td>2.0</td>\n",
       "      <td>1.0</td>\n",
       "      <td>3.0</td>\n",
       "    </tr>\n",
       "  </tbody>\n",
       "</table>\n",
       "</div>"
      ],
      "text/plain": [
       "   Kraj  Mesto  Hodnoty\n",
       "1   1.0    2.0      2.0\n",
       "2   3.0    3.0      1.0\n",
       "3   2.0    1.0      3.0"
      ]
     },
     "execution_count": 7,
     "metadata": {},
     "output_type": "execute_result"
    }
   ],
   "source": [
    "df.rank()"
   ]
  },
  {
   "cell_type": "code",
   "execution_count": 8,
   "id": "b15eb9e6",
   "metadata": {},
   "outputs": [
    {
     "name": "stdout",
     "output_type": "stream",
     "text": [
      "           Kraj    Mesto  Hodnoty  Rank\n",
      "1  Bratislavsky  Pezinok       54   2.0\n",
      "2      Trnavsky   Trnava       32   1.0\n",
      "3       Kosicky   Kosice       87   3.0\n"
     ]
    }
   ],
   "source": [
    "df['Rank'] = df['Hodnoty'].rank()\n",
    "print(df)"
   ]
  },
  {
   "cell_type": "code",
   "execution_count": 34,
   "id": "c35a6f6f",
   "metadata": {},
   "outputs": [
    {
     "name": "stdout",
     "output_type": "stream",
     "text": [
      "   Unnamed: 0          Kraj    Mesto  Hodnoty\n",
      "0           0  Bratislavsky  Pezinok       54\n",
      "1           1      Trnavsky   Trnava       32\n",
      "2           2       Kosicky   Kosice       87\n"
     ]
    }
   ],
   "source": [
    "df.to_csv('nasedata.csv')  # TU SME HO VYTVORILI\n",
    "df2 = pd.read_csv('nasedata.csv')\n",
    "print(df2)"
   ]
  },
  {
   "cell_type": "code",
   "execution_count": 14,
   "id": "bd81e790",
   "metadata": {},
   "outputs": [
    {
     "name": "stdout",
     "output_type": "stream",
     "text": [
      "<pandas.io.excel._base.ExcelFile object at 0x00000134FAB71220>\n",
      "0    Bratislavsky\n",
      "1        Trnavsky\n",
      "2         Kosicky\n",
      "Name: Kraj, dtype: object\n"
     ]
    }
   ],
   "source": [
    "df2.to_excel('data.xlsx', sheet_name='Namerane Hodnoty')\n",
    "xlxs = pd.ExcelFile('data.xlsx')\n",
    "print(xlxs)\n",
    "df = pd.read_excel(xlxs, 'Namerane Hodnoty')\n",
    "print(df['Kraj'])"
   ]
  },
  {
   "cell_type": "code",
   "execution_count": 35,
   "id": "6cba03df",
   "metadata": {},
   "outputs": [
    {
     "name": "stdout",
     "output_type": "stream",
     "text": [
      "   Unnamed: 0          Kraj    Mesto  Hodnoty\n",
      "0           0  Bratislavsky  Pezinok       54\n",
      "1           1      Trnavsky   Trnava       32\n",
      "2           2       Kosicky   Kosice       87\n"
     ]
    }
   ],
   "source": [
    "f = pd.read_csv('nasedata.csv')\n",
    "print(f)"
   ]
  },
  {
   "cell_type": "code",
   "execution_count": 18,
   "id": "373a480c",
   "metadata": {},
   "outputs": [
    {
     "name": "stdout",
     "output_type": "stream",
     "text": [
      "   Unnamed: 0      Kraj   Mesto  Hodnoty  Rank\n",
      "1           2  Trnavsky  Trnava       32   1.0\n"
     ]
    }
   ],
   "source": [
    "print(f[1:2])  # Pozor neda sa po jednom clenovi ! Musia byt 2 parametre"
   ]
  },
  {
   "cell_type": "code",
   "execution_count": 22,
   "id": "70d8dea4",
   "metadata": {},
   "outputs": [
    {
     "name": "stdout",
     "output_type": "stream",
     "text": [
      "   Unnamed: 0          Kraj    Mesto  Hodnoty  Rank\n",
      "0           1  Bratislavsky  Pezinok       54   2.0\n",
      "1           2      Trnavsky   Trnava       32   1.0\n",
      "2           3       Kosicky   Kosice       87   3.0\n"
     ]
    }
   ],
   "source": [
    "print(f[0:])"
   ]
  },
  {
   "cell_type": "code",
   "execution_count": 36,
   "id": "fa4b20c8",
   "metadata": {},
   "outputs": [
    {
     "data": {
      "text/html": [
       "<div>\n",
       "<style scoped>\n",
       "    .dataframe tbody tr th:only-of-type {\n",
       "        vertical-align: middle;\n",
       "    }\n",
       "\n",
       "    .dataframe tbody tr th {\n",
       "        vertical-align: top;\n",
       "    }\n",
       "\n",
       "    .dataframe thead th {\n",
       "        text-align: right;\n",
       "    }\n",
       "</style>\n",
       "<table border=\"1\" class=\"dataframe\">\n",
       "  <thead>\n",
       "    <tr style=\"text-align: right;\">\n",
       "      <th></th>\n",
       "      <th>Mesto</th>\n",
       "    </tr>\n",
       "  </thead>\n",
       "  <tbody>\n",
       "    <tr>\n",
       "      <th>2</th>\n",
       "      <td>Kosice</td>\n",
       "    </tr>\n",
       "  </tbody>\n",
       "</table>\n",
       "</div>"
      ],
      "text/plain": [
       "    Mesto\n",
       "2  Kosice"
      ]
     },
     "execution_count": 36,
     "metadata": {},
     "output_type": "execute_result"
    }
   ],
   "source": [
    "f.iloc[[2],[2]]"
   ]
  },
  {
   "cell_type": "code",
   "execution_count": 38,
   "id": "dffb2167",
   "metadata": {},
   "outputs": [
    {
     "data": {
      "text/html": [
       "<div>\n",
       "<style scoped>\n",
       "    .dataframe tbody tr th:only-of-type {\n",
       "        vertical-align: middle;\n",
       "    }\n",
       "\n",
       "    .dataframe tbody tr th {\n",
       "        vertical-align: top;\n",
       "    }\n",
       "\n",
       "    .dataframe thead th {\n",
       "        text-align: right;\n",
       "    }\n",
       "</style>\n",
       "<table border=\"1\" class=\"dataframe\">\n",
       "  <thead>\n",
       "    <tr style=\"text-align: right;\">\n",
       "      <th></th>\n",
       "      <th>Kraj</th>\n",
       "    </tr>\n",
       "  </thead>\n",
       "  <tbody>\n",
       "    <tr>\n",
       "      <th>0</th>\n",
       "      <td>Bratislavsky</td>\n",
       "    </tr>\n",
       "  </tbody>\n",
       "</table>\n",
       "</div>"
      ],
      "text/plain": [
       "           Kraj\n",
       "0  Bratislavsky"
      ]
     },
     "execution_count": 38,
     "metadata": {},
     "output_type": "execute_result"
    }
   ],
   "source": [
    "f.loc[[0], ['Kraj']]"
   ]
  },
  {
   "cell_type": "code",
   "execution_count": 40,
   "id": "211508f5",
   "metadata": {},
   "outputs": [
    {
     "name": "stdout",
     "output_type": "stream",
     "text": [
      "   Unnamed: 0      Kraj    Mesto  Hodnoty\n",
      "0           0  Zilinsky  Pezinok       54\n",
      "1           1  Trnavsky   Trnava       32\n",
      "2           2   Kosicky   Kosice       87\n"
     ]
    }
   ],
   "source": [
    "f.loc[[0], ['Kraj']] = 'Zilinsky'\n",
    "print(f)"
   ]
  },
  {
   "cell_type": "code",
   "execution_count": 41,
   "id": "3c72de86",
   "metadata": {},
   "outputs": [
    {
     "data": {
      "text/plain": [
       "(3, 4)"
      ]
     },
     "execution_count": 41,
     "metadata": {},
     "output_type": "execute_result"
    }
   ],
   "source": [
    "f.shape"
   ]
  },
  {
   "cell_type": "code",
   "execution_count": 42,
   "id": "270098b1",
   "metadata": {},
   "outputs": [
    {
     "data": {
      "text/plain": [
       "RangeIndex(start=0, stop=3, step=1)"
      ]
     },
     "execution_count": 42,
     "metadata": {},
     "output_type": "execute_result"
    }
   ],
   "source": [
    "f.index"
   ]
  },
  {
   "cell_type": "code",
   "execution_count": 46,
   "id": "6fdbfeda",
   "metadata": {},
   "outputs": [
    {
     "data": {
      "text/plain": [
       "Index(['Unnamed: 0', 'Kraj', 'Mesto', 'Hodnoty'], dtype='object')"
      ]
     },
     "execution_count": 46,
     "metadata": {},
     "output_type": "execute_result"
    }
   ],
   "source": [
    "f.columns"
   ]
  },
  {
   "cell_type": "code",
   "execution_count": 47,
   "id": "a70d6943",
   "metadata": {},
   "outputs": [
    {
     "data": {
      "text/plain": [
       "<bound method DataFrame.info of    Unnamed: 0      Kraj    Mesto  Hodnoty\n",
       "0           0  Zilinsky  Pezinok       54\n",
       "1           1  Trnavsky   Trnava       32\n",
       "2           2   Kosicky   Kosice       87>"
      ]
     },
     "execution_count": 47,
     "metadata": {},
     "output_type": "execute_result"
    }
   ],
   "source": [
    "f.info"
   ]
  },
  {
   "cell_type": "code",
   "execution_count": 48,
   "id": "3c0b6461",
   "metadata": {},
   "outputs": [
    {
     "data": {
      "text/plain": [
       "<bound method DataFrame.count of    Unnamed: 0      Kraj    Mesto  Hodnoty\n",
       "0           0  Zilinsky  Pezinok       54\n",
       "1           1  Trnavsky   Trnava       32\n",
       "2           2   Kosicky   Kosice       87>"
      ]
     },
     "execution_count": 48,
     "metadata": {},
     "output_type": "execute_result"
    }
   ],
   "source": [
    "f.count"
   ]
  },
  {
   "cell_type": "code",
   "execution_count": null,
   "id": "e47e44a3",
   "metadata": {},
   "outputs": [],
   "source": []
  }
 ],
 "metadata": {
  "kernelspec": {
   "display_name": "Python 3 (ipykernel)",
   "language": "python",
   "name": "python3"
  },
  "language_info": {
   "codemirror_mode": {
    "name": "ipython",
    "version": 3
   },
   "file_extension": ".py",
   "mimetype": "text/x-python",
   "name": "python",
   "nbconvert_exporter": "python",
   "pygments_lexer": "ipython3",
   "version": "3.9.13"
  }
 },
 "nbformat": 4,
 "nbformat_minor": 5
}
