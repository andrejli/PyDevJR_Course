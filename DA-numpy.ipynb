{
 "cells": [
  {
   "cell_type": "code",
   "execution_count": 1,
   "id": "708cc814",
   "metadata": {},
   "outputs": [],
   "source": [
    "import numpy as np  # NUMPY \n",
    "import random"
   ]
  },
  {
   "cell_type": "code",
   "execution_count": 2,
   "id": "889448c4",
   "metadata": {},
   "outputs": [
    {
     "name": "stdout",
     "output_type": "stream",
     "text": [
      "[[1 2 3]\n",
      " [5 6 7]\n",
      " [9 9 9]]\n",
      "[1 2 3]\n"
     ]
    },
    {
     "data": {
      "text/plain": [
       "dtype('int16')"
      ]
     },
     "execution_count": 2,
     "metadata": {},
     "output_type": "execute_result"
    }
   ],
   "source": [
    "a = np.array([[1,2,3],[5,6,7],[9,9,9]], dtype=np.int16)  # \n",
    "print(a)\n",
    "print(a[0])\n",
    "a.dtype"
   ]
  },
  {
   "cell_type": "code",
   "execution_count": 3,
   "id": "85a6622d",
   "metadata": {},
   "outputs": [
    {
     "data": {
      "text/plain": [
       "array([[10, 15, 20, 25, 30, 35],\n",
       "       [40, 45, 50, 55, 60, 65],\n",
       "       [70, 75, 80, 85, 90, 95]])"
      ]
     },
     "execution_count": 3,
     "metadata": {},
     "output_type": "execute_result"
    }
   ],
   "source": [
    "np.arange(10,100,5).reshape(3,6)"
   ]
  },
  {
   "cell_type": "code",
   "execution_count": 4,
   "id": "e1cbc6fc",
   "metadata": {},
   "outputs": [
    {
     "data": {
      "text/plain": [
       "array([[[ 0,  1,  2],\n",
       "        [ 3,  4,  5],\n",
       "        [ 6,  7,  8]],\n",
       "\n",
       "       [[ 9, 10, 11],\n",
       "        [12, 13, 14],\n",
       "        [15, 16, 17]],\n",
       "\n",
       "       [[18, 19, 20],\n",
       "        [21, 22, 23],\n",
       "        [24, 25, 26]]])"
      ]
     },
     "execution_count": 4,
     "metadata": {},
     "output_type": "execute_result"
    }
   ],
   "source": [
    "np.arange(27).reshape(3,3,3)"
   ]
  },
  {
   "cell_type": "code",
   "execution_count": 5,
   "id": "a1d38bdd",
   "metadata": {},
   "outputs": [
    {
     "data": {
      "text/plain": [
       "array([[   0,    1,    2, ...,   97,   98,   99],\n",
       "       [ 100,  101,  102, ...,  197,  198,  199],\n",
       "       [ 200,  201,  202, ...,  297,  298,  299],\n",
       "       ...,\n",
       "       [9700, 9701, 9702, ..., 9797, 9798, 9799],\n",
       "       [9800, 9801, 9802, ..., 9897, 9898, 9899],\n",
       "       [9900, 9901, 9902, ..., 9997, 9998, 9999]])"
      ]
     },
     "execution_count": 5,
     "metadata": {},
     "output_type": "execute_result"
    }
   ],
   "source": [
    "np.arange(10000).reshape(100,100)"
   ]
  },
  {
   "cell_type": "code",
   "execution_count": 11,
   "id": "21c193bf",
   "metadata": {},
   "outputs": [
    {
     "data": {
      "text/plain": [
       "array([[ 46,  50, 124],\n",
       "       [135, 122, 266],\n",
       "       [608,  88, 176]])"
      ]
     },
     "execution_count": 11,
     "metadata": {},
     "output_type": "execute_result"
    }
   ],
   "source": [
    "a = np.array([[3,45,67], [123,56,78], [65, 12, 89]])\n",
    "b = np.array([[43,5,57], [12,66,188], [543, 76,87]])\n",
    "a + b"
   ]
  },
  {
   "cell_type": "code",
   "execution_count": 3,
   "id": "85a3b6d7",
   "metadata": {},
   "outputs": [
    {
     "name": "stdout",
     "output_type": "stream",
     "text": [
      "[[0.51182162 0.9504637  0.14415961 0.94864945]\n",
      " [0.31183145 0.42332645 0.82770259 0.40919914]\n",
      " [0.54959369 0.02755911 0.75351311 0.53814331]\n",
      " [0.32973172 0.7884287  0.30319483 0.45349789]]\n"
     ]
    }
   ],
   "source": [
    "rnd = np.random.default_rng(1)\n",
    "a = rnd.random((4,4))\n",
    "print(a)"
   ]
  },
  {
   "cell_type": "code",
   "execution_count": null,
   "id": "9f5f1835",
   "metadata": {},
   "outputs": [],
   "source": []
  },
  {
   "cell_type": "code",
   "execution_count": 4,
   "id": "8494a6d0",
   "metadata": {},
   "outputs": [
    {
     "name": "stdout",
     "output_type": "stream",
     "text": [
      "[[1.02364325 1.90092739 0.28831923 1.89729889]\n",
      " [0.6236629  0.8466529  1.65540519 0.81839827]\n",
      " [1.09918738 0.05511823 1.50702622 1.07628663]\n",
      " [0.65946343 1.57685741 0.60638966 0.90699578]]\n"
     ]
    }
   ],
   "source": [
    "a *= 2\n",
    "print(a)"
   ]
  },
  {
   "cell_type": "code",
   "execution_count": null,
   "id": "2db14fcd",
   "metadata": {},
   "outputs": [],
   "source": []
  },
  {
   "cell_type": "code",
   "execution_count": 5,
   "id": "801069cd",
   "metadata": {},
   "outputs": [
    {
     "name": "stdout",
     "output_type": "stream",
     "text": [
      "[[ 1.02364325  2.90092739  2.28831923  4.89729889]\n",
      " [ 4.6236629   5.8466529   7.65540519  7.81839827]\n",
      " [ 9.09918738  9.05511823 11.50702622 12.07628663]\n",
      " [12.65946343 14.57685741 14.60638966 15.90699578]]\n"
     ]
    },
    {
     "data": {
      "text/plain": [
       "15.906995778961303"
      ]
     },
     "execution_count": 5,
     "metadata": {},
     "output_type": "execute_result"
    }
   ],
   "source": [
    "b = np.arange(16).reshape(4,4)\n",
    "a += b\n",
    "print(a)\n",
    "a.max()"
   ]
  },
  {
   "cell_type": "code",
   "execution_count": 10,
   "id": "200cfd20",
   "metadata": {},
   "outputs": [
    {
     "name": "stdout",
     "output_type": "stream",
     "text": [
      "[[0.  0.2 0.4]\n",
      " [0.6 0.8 1. ]]\n"
     ]
    },
    {
     "data": {
      "text/plain": [
       "0.6000000000000001"
      ]
     },
     "execution_count": 10,
     "metadata": {},
     "output_type": "execute_result"
    }
   ],
   "source": [
    "c = np.linspace(0,1,6).reshape(2,3)\n",
    "print(c)\n",
    "c[0].sum(axis=0)"
   ]
  },
  {
   "cell_type": "code",
   "execution_count": 11,
   "id": "312ed4dd",
   "metadata": {},
   "outputs": [
    {
     "name": "stdout",
     "output_type": "stream",
     "text": [
      "[1. 1. 1. 1. 1. 1. 1. 1. 1. 1. 1. 1.]\n"
     ]
    },
    {
     "data": {
      "text/plain": [
       "12.0"
      ]
     },
     "execution_count": 11,
     "metadata": {},
     "output_type": "execute_result"
    }
   ],
   "source": [
    "d = np.ones(12)\n",
    "print(d)\n",
    "d.sum()"
   ]
  },
  {
   "cell_type": "code",
   "execution_count": 12,
   "id": "be1b3702",
   "metadata": {},
   "outputs": [
    {
     "name": "stdout",
     "output_type": "stream",
     "text": [
      "[ 0  2  4  6  8 10 12 14 16 18 20 22 24 26 28 30 32 34 36 38]\n",
      "6\n",
      "[ 6  8 10 12 14 16 18 20 22 24 26 28 30 32 34 36 38]\n",
      "38\n"
     ]
    }
   ],
   "source": [
    "a = np.arange(20)*2\n",
    "print(a)\n",
    "print(a[3])\n",
    "print(a[3:])\n",
    "print(a[-1])"
   ]
  },
  {
   "cell_type": "code",
   "execution_count": 13,
   "id": "12dd28bc",
   "metadata": {},
   "outputs": [
    {
     "name": "stdout",
     "output_type": "stream",
     "text": [
      "[[1. 1. 1.]\n",
      " [1. 1. 1.]\n",
      " [1. 1. 1.]]\n"
     ]
    }
   ],
   "source": [
    "a = np.ones((3,3))\n",
    "print(a)"
   ]
  },
  {
   "cell_type": "code",
   "execution_count": 14,
   "id": "d94fed1c",
   "metadata": {},
   "outputs": [
    {
     "data": {
      "text/plain": [
       "array([1., 1., 1.])"
      ]
     },
     "execution_count": 14,
     "metadata": {},
     "output_type": "execute_result"
    }
   ],
   "source": [
    "a[0:4,0]"
   ]
  },
  {
   "cell_type": "code",
   "execution_count": 15,
   "id": "c815c5d9",
   "metadata": {},
   "outputs": [
    {
     "name": "stdout",
     "output_type": "stream",
     "text": [
      "[[0.1340417  0.40311299 0.20345524 0.26231334 0.75036467]\n",
      " [0.28040876 0.48519097 0.9807372  0.96165719 0.72478994]\n",
      " [0.54122686 0.2768912  0.16065201 0.96992541 0.51606859]\n",
      " [0.11586561 0.62348976 0.77668311 0.6130033  0.9172977 ]\n",
      " [0.03959288 0.52858926 0.45933588 0.06234958 0.64132817]]\n",
      "[0.1340417  0.40311299 0.20345524 0.26231334 0.75036467]\n",
      "[0.28040876 0.48519097 0.9807372  0.96165719 0.72478994]\n",
      "[0.54122686 0.2768912  0.16065201 0.96992541 0.51606859]\n",
      "[0.11586561 0.62348976 0.77668311 0.6130033  0.9172977 ]\n",
      "[0.03959288 0.52858926 0.45933588 0.06234958 0.64132817]\n"
     ]
    }
   ],
   "source": [
    "b = rnd.random((5,5))\n",
    "print(b)\n",
    "for row in b:\n",
    "    print(row)"
   ]
  },
  {
   "cell_type": "code",
   "execution_count": 16,
   "id": "142d0ede",
   "metadata": {},
   "outputs": [
    {
     "name": "stdout",
     "output_type": "stream",
     "text": [
      "0.13404169724716475\n",
      "0.40311298644712923\n",
      "0.20345524067614962\n",
      "0.2623133404418495\n",
      "0.7503646726300526\n",
      "0.2804087579860399\n",
      "0.48519097443163506\n",
      "0.9807371998012386\n",
      "0.9616571936637868\n",
      "0.7247899407735336\n",
      "0.5412268555474342\n",
      "0.2768912040453708\n",
      "0.16065200877512686\n",
      "0.9699254132161326\n",
      "0.5160685855478787\n",
      "0.11586561247077032\n",
      "0.6234897555375004\n",
      "0.776683114342298\n",
      "0.6130033010530405\n",
      "0.9172977047909027\n",
      "0.03959287666420286\n",
      "0.5285892632600216\n",
      "0.4593358828854037\n",
      "0.0623495791498756\n",
      "0.641328169139375\n"
     ]
    }
   ],
   "source": [
    "for row in b.flat:\n",
    "    print(row)"
   ]
  },
  {
   "cell_type": "code",
   "execution_count": 17,
   "id": "0542b693",
   "metadata": {},
   "outputs": [
    {
     "name": "stdout",
     "output_type": "stream",
     "text": [
      "[[0.1340417  0.40311299 0.20345524 0.26231334 0.75036467 0.28040876\n",
      "  0.48519097 0.9807372  0.96165719 0.72478994]\n",
      " [0.54122686 0.2768912  0.16065201 0.96992541 0.51606859 0.11586561\n",
      "  0.62348976 0.77668311 0.6130033  0.9172977 ]]\n"
     ]
    }
   ],
   "source": [
    "b.resize(2,10)\n",
    "print(b)"
   ]
  },
  {
   "cell_type": "code",
   "execution_count": 18,
   "id": "56dab3be",
   "metadata": {},
   "outputs": [
    {
     "data": {
      "text/plain": [
       "array([[0.1340417 , 0.40311299, 0.20345524, 0.26231334],\n",
       "       [0.75036467, 0.28040876, 0.48519097, 0.9807372 ],\n",
       "       [0.96165719, 0.72478994, 0.54122686, 0.2768912 ],\n",
       "       [0.16065201, 0.96992541, 0.51606859, 0.11586561],\n",
       "       [0.62348976, 0.77668311, 0.6130033 , 0.9172977 ]])"
      ]
     },
     "execution_count": 18,
     "metadata": {},
     "output_type": "execute_result"
    }
   ],
   "source": [
    "b.reshape(5,4)"
   ]
  },
  {
   "cell_type": "code",
   "execution_count": 52,
   "id": "1de768f1",
   "metadata": {},
   "outputs": [
    {
     "data": {
      "text/plain": [
       "[array([[0.1340417 , 0.40311299, 0.20345524, 0.26231334, 0.75036467,\n",
       "         0.28040876, 0.48519097, 0.9807372 , 0.96165719, 0.72478994]]),\n",
       " array([[0.54122686, 0.2768912 , 0.16065201, 0.96992541, 0.51606859,\n",
       "         0.11586561, 0.62348976, 0.77668311, 0.6130033 , 0.9172977 ]])]"
      ]
     },
     "execution_count": 52,
     "metadata": {},
     "output_type": "execute_result"
    }
   ],
   "source": [
    "np.split(b,2)"
   ]
  },
  {
   "cell_type": "code",
   "execution_count": 55,
   "id": "861dcc68",
   "metadata": {},
   "outputs": [
    {
     "data": {
      "text/plain": [
       "array([[0, 1, 2],\n",
       "       [1, 2, 3],\n",
       "       [2, 3, 4]])"
      ]
     },
     "execution_count": 55,
     "metadata": {},
     "output_type": "execute_result"
    }
   ],
   "source": [
    "np.fromfunction(lambda x,j: x+j, (3,3), dtype=int)"
   ]
  },
  {
   "cell_type": "code",
   "execution_count": 58,
   "id": "f73c1870",
   "metadata": {},
   "outputs": [
    {
     "name": "stdout",
     "output_type": "stream",
     "text": [
      "[0.78709694 0.19161626 0.80236416 0.19132393 0.08155262]\n",
      "[0.08155262 0.19132393 0.19161626 0.78709694 0.80236416]\n"
     ]
    },
    {
     "data": {
      "text/plain": [
       "array([0.80236416, 0.78709694, 0.19161626, 0.19132393, 0.08155262])"
      ]
     },
     "execution_count": 58,
     "metadata": {},
     "output_type": "execute_result"
    }
   ],
   "source": [
    "b = rnd.random((5))\n",
    "print(b)\n",
    "sorted_b = np.sort(b)\n",
    "print(sorted_b)\n",
    "sorted_b[::-1]"
   ]
  },
  {
   "cell_type": "code",
   "execution_count": null,
   "id": "20b51f46",
   "metadata": {},
   "outputs": [],
   "source": []
  },
  {
   "cell_type": "code",
   "execution_count": null,
   "id": "34db00c1",
   "metadata": {},
   "outputs": [],
   "source": []
  },
  {
   "cell_type": "code",
   "execution_count": null,
   "id": "8dec693b",
   "metadata": {},
   "outputs": [],
   "source": []
  },
  {
   "cell_type": "code",
   "execution_count": null,
   "id": "95d3106e",
   "metadata": {},
   "outputs": [],
   "source": []
  },
  {
   "cell_type": "code",
   "execution_count": null,
   "id": "007bc551",
   "metadata": {},
   "outputs": [],
   "source": []
  },
  {
   "cell_type": "code",
   "execution_count": null,
   "id": "6dfdcb62",
   "metadata": {},
   "outputs": [],
   "source": []
  },
  {
   "cell_type": "code",
   "execution_count": null,
   "id": "ccecb161",
   "metadata": {},
   "outputs": [],
   "source": []
  },
  {
   "cell_type": "code",
   "execution_count": null,
   "id": "d21f01e9",
   "metadata": {},
   "outputs": [],
   "source": []
  },
  {
   "cell_type": "code",
   "execution_count": null,
   "id": "c8606be4",
   "metadata": {},
   "outputs": [],
   "source": []
  },
  {
   "cell_type": "code",
   "execution_count": null,
   "id": "5dc903f4",
   "metadata": {},
   "outputs": [],
   "source": []
  },
  {
   "cell_type": "code",
   "execution_count": null,
   "id": "71ee00cf",
   "metadata": {},
   "outputs": [],
   "source": []
  },
  {
   "cell_type": "code",
   "execution_count": null,
   "id": "5ad7db6b",
   "metadata": {},
   "outputs": [],
   "source": []
  }
 ],
 "metadata": {
  "kernelspec": {
   "display_name": "Python 3 (ipykernel)",
   "language": "python",
   "name": "python3"
  },
  "language_info": {
   "codemirror_mode": {
    "name": "ipython",
    "version": 3
   },
   "file_extension": ".py",
   "mimetype": "text/x-python",
   "name": "python",
   "nbconvert_exporter": "python",
   "pygments_lexer": "ipython3",
   "version": "3.9.13"
  }
 },
 "nbformat": 4,
 "nbformat_minor": 5
}
