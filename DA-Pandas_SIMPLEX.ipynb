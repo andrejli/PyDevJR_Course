{
 "cells": [
  {
   "cell_type": "code",
   "execution_count": 1,
   "id": "4d3921bd",
   "metadata": {},
   "outputs": [],
   "source": [
    "import numpy as np\n",
    "import pandas as pd"
   ]
  },
  {
   "cell_type": "code",
   "execution_count": 13,
   "id": "43056587",
   "metadata": {},
   "outputs": [
    {
     "name": "stdout",
     "output_type": "stream",
     "text": [
      "Andrej     1\n",
      "Beata      2\n",
      "Cyril      3\n",
      "Dezider    4\n",
      "Eugen      5\n",
      "dtype: int64 \n",
      " 0     6\n",
      "1     7\n",
      "2     8\n",
      "3     9\n",
      "4    10\n",
      "dtype: int64\n"
     ]
    }
   ],
   "source": [
    "a = pd.Series([1,2,3,4,5], index=['Andrej', 'Beata', 'Cyril', 'Dezider', 'Eugen'])\n",
    "b = pd.Series([6,7,8,9,10])\n",
    "print(a, '\\n',b)"
   ]
  },
  {
   "cell_type": "code",
   "execution_count": 7,
   "id": "8fe4a84d",
   "metadata": {},
   "outputs": [
    {
     "data": {
      "text/plain": [
       "Andrej     False\n",
       "Beata      False\n",
       "Cyril      False\n",
       "Dezider     True\n",
       "Eugen       True\n",
       "dtype: bool"
      ]
     },
     "execution_count": 7,
     "metadata": {},
     "output_type": "execute_result"
    }
   ],
   "source": [
    "f = lambda x : x > 3\n",
    "a.map(f)"
   ]
  },
  {
   "cell_type": "code",
   "execution_count": 9,
   "id": "4477c38b",
   "metadata": {},
   "outputs": [
    {
     "name": "stdout",
     "output_type": "stream",
     "text": [
      "<filter object at 0x000001BD06359A90>\n",
      "[4, 5]\n"
     ]
    }
   ],
   "source": [
    "c = filter(f, a)\n",
    "print(c)\n",
    "print(list(c))"
   ]
  },
  {
   "cell_type": "code",
   "execution_count": 12,
   "id": "0317f7a3",
   "metadata": {},
   "outputs": [
    {
     "data": {
      "text/plain": [
       "Ondrej     1\n",
       "Beata      2\n",
       "Cyril      3\n",
       "Dezider    4\n",
       "Eugen      5\n",
       "dtype: int64"
      ]
     },
     "execution_count": 12,
     "metadata": {},
     "output_type": "execute_result"
    }
   ],
   "source": [
    "a.sort_values()"
   ]
  },
  {
   "cell_type": "markdown",
   "id": "e2de1d4d",
   "metadata": {},
   "source": [
    "## Pandas je uzasny nastroj na pracu s Datami"
   ]
  },
  {
   "cell_type": "code",
   "execution_count": 14,
   "id": "298cc6d8",
   "metadata": {},
   "outputs": [
    {
     "data": {
      "text/plain": [
       "Eugen      5\n",
       "Dezider    4\n",
       "Cyril      3\n",
       "Beata      2\n",
       "Andrej     1\n",
       "dtype: int64"
      ]
     },
     "execution_count": 14,
     "metadata": {},
     "output_type": "execute_result"
    }
   ],
   "source": [
    "a[::-1]"
   ]
  },
  {
   "cell_type": "code",
   "execution_count": 15,
   "id": "2c433c42",
   "metadata": {},
   "outputs": [
    {
     "data": {
      "text/plain": [
       "[5, 4, 3, 2, 1]"
      ]
     },
     "execution_count": 15,
     "metadata": {},
     "output_type": "execute_result"
    }
   ],
   "source": [
    "sorted(a, reverse=True)"
   ]
  },
  {
   "cell_type": "markdown",
   "id": "3c2cdb1f",
   "metadata": {},
   "source": [
    "# Pandas DataFrame"
   ]
  },
  {
   "cell_type": "code",
   "execution_count": 19,
   "id": "d114d52d",
   "metadata": {},
   "outputs": [
    {
     "name": "stdout",
     "output_type": "stream",
     "text": [
      "         0\n",
      "Andrej   1\n",
      "Beata    2\n",
      "Cyril    3\n",
      "Dezider  4\n",
      "Eugen    5\n",
      "         0      1\n",
      "Andrej   1  False\n",
      "Beata    2  False\n",
      "Cyril    3  False\n",
      "Dezider  4   True\n",
      "Eugen    5   True\n",
      "         0      1   2\n",
      "Andrej   1  False   6\n",
      "Beata    2  False   7\n",
      "Cyril    3  False   8\n",
      "Dezider  4   True   9\n",
      "Eugen    5   True  10\n"
     ]
    }
   ],
   "source": [
    "data = pd.DataFrame(a)\n",
    "print(data)\n",
    "data[1] = a.map(f)\n",
    "print(data)\n",
    "data[2] = [6,7,8,9,10]\n",
    "print(data)"
   ]
  },
  {
   "cell_type": "code",
   "execution_count": 23,
   "id": "fd623998",
   "metadata": {},
   "outputs": [
    {
     "name": "stdout",
     "output_type": "stream",
     "text": [
      "         0      1   2   3    4\n",
      "Andrej   1  False   6   7  1.0\n",
      "Beata    2  False   7   9  2.0\n",
      "Cyril    3  False   8  11  3.0\n",
      "Dezider  4   True   9  13  4.0\n",
      "Eugen    5   True  10  15  5.0\n",
      "         0      1   2   3    4\n",
      "Andrej   1  False   6   7  1.0\n",
      "Beata    2  False   7   9  2.0\n",
      "Cyril    3  False   8  11  3.0\n",
      "Dezider  4   True   9  13  4.0\n",
      "Eugen    5   True  10  15  5.0\n"
     ]
    }
   ],
   "source": [
    "data[3] = data[0] + data[2]\n",
    "print(data)\n",
    "data[4] = data[3].rank()\n",
    "print(data)"
   ]
  },
  {
   "cell_type": "code",
   "execution_count": 24,
   "id": "e29b8bfe",
   "metadata": {},
   "outputs": [
    {
     "data": {
      "text/plain": [
       "Andrej      6\n",
       "Beata       7\n",
       "Cyril       8\n",
       "Dezider     9\n",
       "Eugen      10\n",
       "Name: 2, dtype: int64"
      ]
     },
     "execution_count": 24,
     "metadata": {},
     "output_type": "execute_result"
    }
   ],
   "source": [
    "data[2]"
   ]
  },
  {
   "cell_type": "code",
   "execution_count": 25,
   "id": "678ce3ad",
   "metadata": {},
   "outputs": [
    {
     "data": {
      "text/html": [
       "<div>\n",
       "<style scoped>\n",
       "    .dataframe tbody tr th:only-of-type {\n",
       "        vertical-align: middle;\n",
       "    }\n",
       "\n",
       "    .dataframe tbody tr th {\n",
       "        vertical-align: top;\n",
       "    }\n",
       "\n",
       "    .dataframe thead th {\n",
       "        text-align: right;\n",
       "    }\n",
       "</style>\n",
       "<table border=\"1\" class=\"dataframe\">\n",
       "  <thead>\n",
       "    <tr style=\"text-align: right;\">\n",
       "      <th></th>\n",
       "      <th>0</th>\n",
       "      <th>1</th>\n",
       "      <th>2</th>\n",
       "      <th>3</th>\n",
       "      <th>4</th>\n",
       "    </tr>\n",
       "  </thead>\n",
       "  <tbody>\n",
       "    <tr>\n",
       "      <th>Cyril</th>\n",
       "      <td>3</td>\n",
       "      <td>False</td>\n",
       "      <td>8</td>\n",
       "      <td>11</td>\n",
       "      <td>3.0</td>\n",
       "    </tr>\n",
       "  </tbody>\n",
       "</table>\n",
       "</div>"
      ],
      "text/plain": [
       "       0      1  2   3    4\n",
       "Cyril  3  False  8  11  3.0"
      ]
     },
     "execution_count": 25,
     "metadata": {},
     "output_type": "execute_result"
    }
   ],
   "source": [
    "data.loc[(data[4] >= 3) & (data[1]== False)]"
   ]
  },
  {
   "cell_type": "code",
   "execution_count": null,
   "id": "4aafa013",
   "metadata": {},
   "outputs": [],
   "source": [
    "# TODO Zajtra stiahnut novy Dataset 500naj firiem."
   ]
  }
 ],
 "metadata": {
  "kernelspec": {
   "display_name": "Python 3 (ipykernel)",
   "language": "python",
   "name": "python3"
  },
  "language_info": {
   "codemirror_mode": {
    "name": "ipython",
    "version": 3
   },
   "file_extension": ".py",
   "mimetype": "text/x-python",
   "name": "python",
   "nbconvert_exporter": "python",
   "pygments_lexer": "ipython3",
   "version": "3.9.13"
  }
 },
 "nbformat": 4,
 "nbformat_minor": 5
}
